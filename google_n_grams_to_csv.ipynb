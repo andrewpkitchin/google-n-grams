{
  "nbformat": 4,
  "nbformat_minor": 0,
  "metadata": {
    "colab": {
      "name": "google_n_grams_to_csv.ipynb",
      "provenance": [],
      "authorship_tag": "ABX9TyOWse696YBKfH+vZfrB0cdb",
      "include_colab_link": true
    },
    "kernelspec": {
      "name": "python3",
      "display_name": "Python 3"
    },
    "language_info": {
      "name": "python"
    }
  },
  "cells": [
    {
      "cell_type": "markdown",
      "metadata": {
        "id": "view-in-github",
        "colab_type": "text"
      },
      "source": [
        "<a href=\"https://colab.research.google.com/github/andrewpkitchin/google-n-grams/blob/main/google_n_grams_to_csv.ipynb\" target=\"_parent\"><img src=\"https://colab.research.google.com/assets/colab-badge.svg\" alt=\"Open In Colab\"/></a>"
      ]
    },
    {
      "cell_type": "code",
      "execution_count": null,
      "metadata": {
        "id": "ye501VJfZEuT"
      },
      "outputs": [],
      "source": [
        "import requests, json, csv, time"
      ]
    },
    {
      "cell_type": "code",
      "source": [
        "list_of_dates = []\n",
        "\n",
        "for i in range(0,520):\n",
        "  list_of_dates.append(1500+i)"
      ],
      "metadata": {
        "id": "QlZ5yElcZKr3"
      },
      "execution_count": null,
      "outputs": []
    },
    {
      "cell_type": "code",
      "source": [
        "def ngrams_to_csv(csv_name, list_of_ngrams, list_of_dates):\n",
        "  with open(csv_name, 'w', newline='') as file:\n",
        "    writer = csv.writer(file)\n",
        "\n",
        "    list_of_dates.insert(0,'Word')\n",
        "\n",
        "    # Write the headings to the csv.\n",
        "\n",
        "    writer.writerow(list_of_dates)\n",
        "\n",
        "    list_of_dates.pop(0)\n",
        "\n",
        "    # smoothing = 0 means no smoothing, list of copora \n",
        "\n",
        "    for word in list_of_ngrams:\n",
        "      url =f\"https://books.google.com/ngrams/json?content={word}&year_start=1500&year_end=2019&corpus=26&smoothing=0&case_insensitive=case_insensitive\"\n",
        "      resp = requests.get(url)\n",
        "      if resp.ok:\n",
        "        results = json.loads(resp.content)\n",
        "\n",
        "      listOfPercentages = [word] + results[0]['timeseries']\n",
        "\n",
        "      # Writing the n-gram percentages to the csv.\n",
        "\n",
        "      writer.writerow(listOfPercentages)\n",
        "\n",
        "      time.sleep(0.5)"
      ],
      "metadata": {
        "id": "pooTo1lLZMni"
      },
      "execution_count": null,
      "outputs": []
    },
    {
      "cell_type": "code",
      "source": [
        "list_of_ngrams = [\"one\", \"Albert Einstein\"]"
      ],
      "metadata": {
        "id": "lrd1SSr5ZSY1"
      },
      "execution_count": null,
      "outputs": []
    },
    {
      "cell_type": "code",
      "source": [
        "ngrams_to_csv(\"test1.csv\", list_of_ngrams, list_of_dates)"
      ],
      "metadata": {
        "id": "eUBXxRTFZVCa"
      },
      "execution_count": null,
      "outputs": []
    }
  ]
}